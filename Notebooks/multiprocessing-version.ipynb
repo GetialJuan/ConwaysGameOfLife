{
 "cells": [
  {
   "cell_type": "code",
   "execution_count": 20,
   "id": "6adf7f5d-5ca4-4dce-9895-98cc255b1b80",
   "metadata": {},
   "outputs": [],
   "source": [
    "import numpy as np\n",
    "from multiprocessing import Process, cpu_count, RawArray\n",
    "from time import time\n",
    "\n",
    "import matplotlib.pyplot as plt"
   ]
  },
  {
   "cell_type": "code",
   "execution_count": 21,
   "id": "a5bc64c4-8e96-44c6-bae6-f1d5ef5a73d6",
   "metadata": {},
   "outputs": [],
   "source": [
    "MAX_UNITS = cpu_count()\n",
    "MAX_X = 64\n",
    "MAX_Y = 64\n",
    "\n",
    "_vector = np.int32( np.random.choice([1,0], MAX_X * MAX_Y, p = [0.50, 0.50]) )\n",
    "vector = RawArray('i',_vector)\n",
    "_vector_out = np.empty(MAX_X * MAX_Y, dtype = np.int32)\n",
    "vector_out = RawArray('i',_vector_out)"
   ]
  },
  {
   "cell_type": "code",
   "execution_count": 22,
   "id": "1c7ef2b4-ebbc-49a2-a7d7-9ed70e8c2094",
   "metadata": {},
   "outputs": [],
   "source": [
    "# Funciones auxiliares usadas para estimar los vecinos de una celda y\n",
    "# garantizar que los valores del borde no se vayan a sobrepasar\n",
    "#\n",
    "\n",
    "def posx(x, max_x = MAX_X):\n",
    "  return (x + max_x) % max_x\n",
    "\n",
    "def posy(y, max_y = MAX_Y):\n",
    "  return (y + max_y) % max_y\n",
    "\n",
    "def indice(x,y, max_y = MAX_Y):\n",
    "  return posx(x) * max_y + posy(y)"
   ]
  },
  {
   "cell_type": "code",
   "execution_count": 23,
   "id": "0a0ac0c7-9c47-4512-9f48-349970bc540e",
   "metadata": {},
   "outputs": [],
   "source": [
    "# Esta funcion se encarga de contar los 8 vecinos de una celda cuales están\n",
    "# vivos (valor a '1') o cuantos están muertos (valor a '0')\n",
    "#\n",
    "#                 |                |\n",
    "#  (X - 1, Y - 1) | (  X  , Y - 1) | (X + 1, Y - 1)\n",
    "#                 |                |\n",
    "# --------------------------------------------------\n",
    "#                 |                |\n",
    "#  (X - 1,   Y  ) | (  X  ,   Y  ) | (X + 1,   Y  )\n",
    "#                 |                |\n",
    "# --------------------------------------------------\n",
    "#                 |                |\n",
    "#  (X - 1, Y + 1) | (  X  , Y + 1) | (X + 1, Y + 1)\n",
    "#\n",
    "\n",
    "def vecinos(x,y):\n",
    "  return vector[ indice(x - 1, y - 1) ] + vector[ indice(x - 1 , y) ] + vector[ indice(x - 1, y + 1) ] \\\n",
    "  + vector[ indice(x, y - 1) ] + vector[ indice(x, y + 1) ] \\\n",
    "  + vector[ indice(x + 1, y - 1) ] + vector[ indice(x + 1 , y) ] + vector[ indice(x + 1, y + 1) ]\n",
    "\n"
   ]
  },
  {
   "cell_type": "code",
   "execution_count": 24,
   "id": "49e5f458-e34f-42d5-9cea-c2ad3af920e3",
   "metadata": {},
   "outputs": [],
   "source": [
    "# Esta función se encarga de recorrer toda las celdas y estimar cuales de ellas \n",
    "# vivirán y cuales no \n",
    "#\n",
    "def conway(low_limit = 0, high_limit = MAX_X):\n",
    "  for i in range(low_limit,high_limit):\n",
    "    for j in range(0,MAX_Y):\n",
    "      n = vecinos(i,j)\n",
    "      valor = 0\n",
    "      if vector[ indice(i,j) ] == 1 and (n == 2 or n == 3):\n",
    "        valor = 1\n",
    "      elif vector[ indice(i,j) ] == 0 and n == 3:\n",
    "        valor = 1\n",
    "      vector_out[ indice(i,j) ] = valor"
   ]
  },
  {
   "cell_type": "code",
   "execution_count": 26,
   "id": "bb796af0-a89f-45dc-b9f5-7a753bfcc69f",
   "metadata": {},
   "outputs": [
    {
     "name": "stdout",
     "output_type": "stream",
     "text": [
      "[[1 0 1 ... 1 0 1]\n",
      " [1 1 1 ... 1 0 0]\n",
      " [1 0 1 ... 1 0 0]\n",
      " ...\n",
      " [0 1 0 ... 0 1 0]\n",
      " [1 0 1 ... 1 1 0]\n",
      " [0 0 1 ... 1 0 0]]\n",
      "\n",
      "El tiempo que tomó calcular 0.5162796974182129\n"
     ]
    },
    {
     "data": {
      "image/png": "[encoded data removed]",
      "text/plain": [
       "<Figure size 640x480 with 1 Axes>"
      ]
     },
     "metadata": {},
     "output_type": "display_data"
    }
   ],
   "source": [
    "print(np.frombuffer(vector, dtype = np.int32).reshape(MAX_X, MAX_Y))\n",
    "# Variables usadas para hacer la partición de las filas que trabajará cada\n",
    "# proceso\n",
    "stride = np.int32(MAX_X / MAX_UNITS)\n",
    "count = np.int32(0)\n",
    "workers = [] # arreglo que almacenará aquellos procesos que se crearán\n",
    "for t in range(MAX_UNITS):\n",
    "    worker = Process(target = conway,\n",
    "                    args = (count, np.int32(count + stride)))\n",
    "    workers.append(worker)\n",
    "    #print(count)\n",
    "    count = count + stride\n",
    "# Ciclo que lanza la ejecución de los procesos que se crearon\n",
    "t1 = time()\n",
    "for worker in workers:\n",
    "    worker.start()\n",
    "# Ciclo que espera por la terminación de todos los procesos que se lanzaron\n",
    "for worker in workers:\n",
    "    worker.join()\n",
    "t2 = time()\n",
    "print()\n",
    "#print(np.frombuffer(vector_out, dtype = np.int32).reshape(MAX_X, MAX_Y))\n",
    "print(f\"El tiempo que tomó calcular {t2 - t1}\")\n",
    "fig = plt.figure()\n",
    "plt.imshow(np.frombuffer(vector_out, dtype=np.int32).reshape(MAX_X,MAX_Y))\n",
    "plt.show() "
   ]
  },
  {
   "cell_type": "code",
   "execution_count": null,
   "id": "e9bd2b72-afea-4de3-8bd0-a849a381f08e",
   "metadata": {},
   "outputs": [],
   "source": []
  }
 ],
 "metadata": {
  "kernelspec": {
   "display_name": "Python 3 (ipykernel)",
   "language": "python",
   "name": "python3"
  },
  "language_info": {
   "codemirror_mode": {
    "name": "ipython",
    "version": 3
   },
   "file_extension": ".py",
   "mimetype": "text/x-python",
   "name": "python",
   "nbconvert_exporter": "python",
   "pygments_lexer": "ipython3",
   "version": "3.11.0"
  }
 },
 "nbformat": 4,
 "nbformat_minor": 5
}
